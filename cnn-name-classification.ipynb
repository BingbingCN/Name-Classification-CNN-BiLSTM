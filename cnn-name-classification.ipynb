{
 "cells": [
  {
   "cell_type": "code",
   "execution_count": 1,
   "id": "6bf202d1",
   "metadata": {
    "_cell_guid": "3fc572f3-5092-4d76-995b-42efe41058db",
    "_uuid": "479b084b-352f-4de2-9bfe-486cc9af700c",
    "collapsed": false,
    "execution": {
     "iopub.execute_input": "2022-07-04T10:59:58.367331Z",
     "iopub.status.busy": "2022-07-04T10:59:58.366635Z",
     "iopub.status.idle": "2022-07-04T10:59:58.399000Z",
     "shell.execute_reply": "2022-07-04T10:59:58.397254Z"
    },
    "jupyter": {
     "outputs_hidden": false
    },
    "papermill": {
     "duration": 0.049624,
     "end_time": "2022-07-04T10:59:58.403523",
     "exception": false,
     "start_time": "2022-07-04T10:59:58.353899",
     "status": "completed"
    },
    "tags": []
   },
   "outputs": [
    {
     "data": {
      "text/plain": [
       "['../input/multilingual-names/Vietnamese.txt',\n",
       " '../input/multilingual-names/Greek.txt',\n",
       " '../input/multilingual-names/Japanese.txt',\n",
       " '../input/multilingual-names/Dutch.txt',\n",
       " '../input/multilingual-names/Irish.txt',\n",
       " '../input/multilingual-names/Russian.txt',\n",
       " '../input/multilingual-names/Korean.txt',\n",
       " '../input/multilingual-names/Scottish.txt',\n",
       " '../input/multilingual-names/Czech.txt',\n",
       " '../input/multilingual-names/Italian.txt',\n",
       " '../input/multilingual-names/Arabic.txt',\n",
       " '../input/multilingual-names/Portuguese.txt',\n",
       " '../input/multilingual-names/Spanish.txt',\n",
       " '../input/multilingual-names/Chinese.txt',\n",
       " '../input/multilingual-names/French.txt',\n",
       " '../input/multilingual-names/English.txt',\n",
       " '../input/multilingual-names/German.txt',\n",
       " '../input/multilingual-names/Polish.txt']"
      ]
     },
     "execution_count": 1,
     "metadata": {},
     "output_type": "execute_result"
    }
   ],
   "source": [
    "from io import open\n",
    "import glob\n",
    "import os\n",
    "def findFiles(path): return glob.glob(path)\n",
    "findFiles('../input/multilingual-names/*.txt')\n"
   ]
  },
  {
   "cell_type": "code",
   "execution_count": 2,
   "id": "0a95506c",
   "metadata": {
    "_cell_guid": "85660a78-4a60-490b-a9ef-41ec7a4000d3",
    "_uuid": "80db7e98-9855-4662-a5b7-01eb568fab61",
    "collapsed": false,
    "execution": {
     "iopub.execute_input": "2022-07-04T10:59:58.422267Z",
     "iopub.status.busy": "2022-07-04T10:59:58.421803Z",
     "iopub.status.idle": "2022-07-04T10:59:58.435100Z",
     "shell.execute_reply": "2022-07-04T10:59:58.433604Z"
    },
    "jupyter": {
     "outputs_hidden": false
    },
    "papermill": {
     "duration": 0.025679,
     "end_time": "2022-07-04T10:59:58.437973",
     "exception": false,
     "start_time": "2022-07-04T10:59:58.412294",
     "status": "completed"
    },
    "pycharm": {
     "name": "#%%\n"
    },
    "tags": []
   },
   "outputs": [
    {
     "data": {
      "text/plain": [
       "'Slusarski'"
      ]
     },
     "execution_count": 2,
     "metadata": {},
     "output_type": "execute_result"
    }
   ],
   "source": [
    "import unicodedata\n",
    "import string\n",
    "all_letters = string.ascii_letters + \" .,;'\"\n",
    "n_letters = len(all_letters)\n",
    "# Turn a Unicode string to plain ASCII, thanks to https://stackoverflow.com/a/518232/2809427\n",
    "def unicodeToAscii(s):\n",
    "    return ''.join(\n",
    "        c for c in unicodedata.normalize('NFD', s)\n",
    "        if unicodedata.category(c) != 'Mn'\n",
    "        and c in all_letters\n",
    "    )\n",
    "unicodeToAscii('Ślusàrski')"
   ]
  },
  {
   "cell_type": "code",
   "execution_count": 3,
   "id": "47c73e8c",
   "metadata": {
    "_cell_guid": "ae6c955c-8ba6-4634-a228-6de4c5467997",
    "_uuid": "3665e8d6-b611-4117-b88e-80399b0d0190",
    "collapsed": false,
    "execution": {
     "iopub.execute_input": "2022-07-04T10:59:58.457453Z",
     "iopub.status.busy": "2022-07-04T10:59:58.456283Z",
     "iopub.status.idle": "2022-07-04T10:59:58.680719Z",
     "shell.execute_reply": "2022-07-04T10:59:58.678844Z"
    },
    "jupyter": {
     "outputs_hidden": false
    },
    "papermill": {
     "duration": 0.240727,
     "end_time": "2022-07-04T10:59:58.687248",
     "exception": false,
     "start_time": "2022-07-04T10:59:58.446521",
     "status": "completed"
    },
    "pycharm": {
     "name": "#%%\n"
    },
    "tags": []
   },
   "outputs": [],
   "source": [
    "# Build the category_lines dictionary, a list of names per language\n",
    "category_lines = {}\n",
    "all_categories = []\n",
    "\n",
    "# Read a file and split into lines\n",
    "def readLines(filename):\n",
    "    lines = open(filename, encoding='utf-8').read().strip().split('\\n')\n",
    "    return [unicodeToAscii(line) for line in lines]\n",
    "\n",
    "for filename in findFiles('../input/multilingual-names/*.txt'):\n",
    "    category = os.path.splitext(os.path.basename(filename))[0]\n",
    "    all_categories.append(category)\n",
    "    lines = readLines(filename)\n",
    "    category_lines[category] = lines\n",
    "\n",
    "n_categories = len(all_categories)"
   ]
  },
  {
   "cell_type": "code",
   "execution_count": 4,
   "id": "bbbbe2b7",
   "metadata": {
    "_cell_guid": "f5e28b21-87a8-45f5-a304-770c96a1d960",
    "_uuid": "00ce4e76-a1c4-4b52-afc6-0a96d98cfee3",
    "collapsed": false,
    "execution": {
     "iopub.execute_input": "2022-07-04T10:59:58.720085Z",
     "iopub.status.busy": "2022-07-04T10:59:58.719499Z",
     "iopub.status.idle": "2022-07-04T10:59:58.730550Z",
     "shell.execute_reply": "2022-07-04T10:59:58.729233Z"
    },
    "jupyter": {
     "outputs_hidden": false
    },
    "papermill": {
     "duration": 0.035086,
     "end_time": "2022-07-04T10:59:58.738661",
     "exception": false,
     "start_time": "2022-07-04T10:59:58.703575",
     "status": "completed"
    },
    "pycharm": {
     "name": "#%%\n"
    },
    "tags": []
   },
   "outputs": [
    {
     "data": {
      "text/plain": [
       "['Ang', 'AuYong', 'Bai', 'Ban', 'Bao']"
      ]
     },
     "execution_count": 4,
     "metadata": {},
     "output_type": "execute_result"
    }
   ],
   "source": [
    "category_lines['Chinese'][:5]"
   ]
  },
  {
   "cell_type": "code",
   "execution_count": 5,
   "id": "b89af3df",
   "metadata": {
    "_cell_guid": "3a1eb55a-f416-46e1-a0fa-6e364bd5881b",
    "_uuid": "cced998a-e365-4bcb-9b20-d1abfd3452e7",
    "collapsed": false,
    "execution": {
     "iopub.execute_input": "2022-07-04T10:59:58.770059Z",
     "iopub.status.busy": "2022-07-04T10:59:58.769594Z",
     "iopub.status.idle": "2022-07-04T10:59:58.780676Z",
     "shell.execute_reply": "2022-07-04T10:59:58.779522Z"
    },
    "jupyter": {
     "outputs_hidden": false
    },
    "papermill": {
     "duration": 0.0351,
     "end_time": "2022-07-04T10:59:58.788637",
     "exception": false,
     "start_time": "2022-07-04T10:59:58.753537",
     "status": "completed"
    },
    "pycharm": {
     "name": "#%%\n"
    },
    "tags": []
   },
   "outputs": [
    {
     "data": {
      "text/plain": [
       "['S', 'l', 'u', 's', 'a', 'r', 's', 'k', 'i']"
      ]
     },
     "execution_count": 5,
     "metadata": {},
     "output_type": "execute_result"
    }
   ],
   "source": [
    "def split_line(name:str):\n",
    "    return list(name)\n",
    "\n",
    "split_line(\"Slusarski\")"
   ]
  },
  {
   "cell_type": "code",
   "execution_count": 6,
   "id": "c0a4b659",
   "metadata": {
    "_cell_guid": "8b942bda-4978-4e26-8bd7-fe7494c9eca7",
    "_uuid": "ea4a31df-3d2d-42b7-8608-9c008efc58a9",
    "collapsed": false,
    "execution": {
     "iopub.execute_input": "2022-07-04T10:59:58.820659Z",
     "iopub.status.busy": "2022-07-04T10:59:58.820118Z",
     "iopub.status.idle": "2022-07-04T10:59:59.019713Z",
     "shell.execute_reply": "2022-07-04T10:59:59.018195Z"
    },
    "jupyter": {
     "outputs_hidden": false
    },
    "papermill": {
     "duration": 0.219924,
     "end_time": "2022-07-04T10:59:59.023813",
     "exception": false,
     "start_time": "2022-07-04T10:59:58.803889",
     "status": "completed"
    },
    "pycharm": {
     "name": "#%%\n"
    },
    "tags": []
   },
   "outputs": [
    {
     "data": {
      "text/plain": [
       "[(['N', 'g', 'u', 'y', 'e', 'n'], 'Vietnamese'),\n",
       " (['T', 'r', 'o', 'n'], 'Vietnamese'),\n",
       " (['L', 'e'], 'Vietnamese'),\n",
       " (['P', 'h', 'a', 'm'], 'Vietnamese'),\n",
       " (['H', 'u', 'y', 'n', 'h'], 'Vietnamese')]"
      ]
     },
     "execution_count": 6,
     "metadata": {},
     "output_type": "execute_result"
    }
   ],
   "source": [
    "data_pairs = []\n",
    "for category_name, lines in category_lines.items():\n",
    "    for name in lines:\n",
    "        data_pairs.append((split_line(name), category_name))\n",
    "\n",
    "data_pairs[:5]"
   ]
  },
  {
   "cell_type": "code",
   "execution_count": 7,
   "id": "e7a97f4f",
   "metadata": {
    "_cell_guid": "f52df5a0-790e-42ba-9c94-b6956a272ab6",
    "_uuid": "452a6d2c-c430-4464-a119-2f4aa4b63179",
    "collapsed": false,
    "execution": {
     "iopub.execute_input": "2022-07-04T10:59:59.057554Z",
     "iopub.status.busy": "2022-07-04T10:59:59.056952Z",
     "iopub.status.idle": "2022-07-04T10:59:59.127105Z",
     "shell.execute_reply": "2022-07-04T10:59:59.125535Z"
    },
    "jupyter": {
     "outputs_hidden": false
    },
    "papermill": {
     "duration": 0.091436,
     "end_time": "2022-07-04T10:59:59.131692",
     "exception": false,
     "start_time": "2022-07-04T10:59:59.040256",
     "status": "completed"
    },
    "pycharm": {
     "name": "#%%\n"
    },
    "tags": []
   },
   "outputs": [
    {
     "data": {
      "text/plain": [
       "[(['L', 'e', 'z', 'h', 'e', 'b', 'o', 'k', 'o', 'v'], 'Russian'),\n",
       " (['R', 'a', 'k', 'h', 'm', 'a', 'n', 'i', 'n', 'o', 'v'], 'Russian'),\n",
       " (['A', 'v', 'e', 'r', 'k', 'o', 'v', 'i', 'c', 'h'], 'Russian'),\n",
       " (['T', 'a', 'l', 'o', 'v', 'i', 'r', 'k', 'o'], 'Russian'),\n",
       " (['D', 'j', 'u', 'm', 'a', 'e', 'v'], 'Russian')]"
      ]
     },
     "execution_count": 7,
     "metadata": {},
     "output_type": "execute_result"
    }
   ],
   "source": [
    "import random\n",
    "random.seed(114514)\n",
    "\n",
    "index = list(range(len(data_pairs)))\n",
    "\n",
    "random.shuffle(index)\n",
    "\n",
    "valid_index = index[:2000]\n",
    "test_index = index[2000:4000]\n",
    "train_index = index[4000:]\n",
    "\n",
    "valid_pairs = [data_pairs[i] for i in valid_index]\n",
    "test_pairs = [data_pairs[i] for i in test_index]\n",
    "train_pairs = [data_pairs[i] for i in train_index]\n",
    "\n",
    "valid_pairs[:5]"
   ]
  },
  {
   "cell_type": "code",
   "execution_count": 8,
   "id": "340f4330",
   "metadata": {
    "_cell_guid": "9f20a066-5837-47b2-8723-88f270eb8ebc",
    "_uuid": "563f9d21-3575-4be1-8218-00f9e0c4bfc6",
    "collapsed": false,
    "execution": {
     "iopub.execute_input": "2022-07-04T10:59:59.169737Z",
     "iopub.status.busy": "2022-07-04T10:59:59.168986Z",
     "iopub.status.idle": "2022-07-04T10:59:59.243063Z",
     "shell.execute_reply": "2022-07-04T10:59:59.241501Z"
    },
    "jupyter": {
     "outputs_hidden": false
    },
    "papermill": {
     "duration": 0.095102,
     "end_time": "2022-07-04T10:59:59.246106",
     "exception": false,
     "start_time": "2022-07-04T10:59:59.151004",
     "status": "completed"
    },
    "pycharm": {
     "name": "#%%\n"
    },
    "tags": []
   },
   "outputs": [],
   "source": [
    "class WordDict:\n",
    "    def __init__(self) -> None:\n",
    "        self.index2word = {}\n",
    "        self.word2index = {}\n",
    "        self.dict_size = 0\n",
    "    def add_word(self, word:str):\n",
    "        if word not in self.word2index:\n",
    "            self.word2index[word] = self.dict_size\n",
    "            self.index2word[self.dict_size] = word\n",
    "            self.dict_size += 1\n",
    "    def index(self, word:str):\n",
    "        if word in self.word2index:\n",
    "            return self.word2index[word]\n",
    "        else:\n",
    "            return -1\n",
    "    def word(self, index:int):\n",
    "        if index in self.index2word:\n",
    "            return self.index2word[index]\n",
    "        else:\n",
    "            return \"<unk>\"\n",
    "name_dict = WordDict()\n",
    "category_dict = WordDict()\n",
    "\n",
    "name_dict.add_word(\"<pad>\")\n",
    "for name, category_name in data_pairs:\n",
    "    for char in name:\n",
    "        name_dict.add_word(char)\n",
    "    category_dict.add_word(category_name)"
   ]
  },
  {
   "cell_type": "code",
   "execution_count": 9,
   "id": "e68a3ecc",
   "metadata": {
    "_cell_guid": "e1886375-1320-4672-bfde-a050a550875c",
    "_uuid": "5db9eda5-589c-4c51-aad3-14acbe07072c",
    "collapsed": false,
    "execution": {
     "iopub.execute_input": "2022-07-04T10:59:59.266729Z",
     "iopub.status.busy": "2022-07-04T10:59:59.265625Z",
     "iopub.status.idle": "2022-07-04T11:00:01.471751Z",
     "shell.execute_reply": "2022-07-04T11:00:01.470359Z"
    },
    "jupyter": {
     "outputs_hidden": false
    },
    "papermill": {
     "duration": 2.219298,
     "end_time": "2022-07-04T11:00:01.474463",
     "exception": false,
     "start_time": "2022-07-04T10:59:59.255165",
     "status": "completed"
    },
    "pycharm": {
     "name": "#%%\n"
    },
    "tags": []
   },
   "outputs": [
    {
     "data": {
      "text/plain": [
       "(tensor([24,  9, 31, 29, 30, 46,  9,  8, 35, 12,  4]), tensor([15]))"
      ]
     },
     "execution_count": 9,
     "metadata": {},
     "output_type": "execute_result"
    }
   ],
   "source": [
    "import torch\n",
    "import torch.nn as nn\n",
    "from torch.utils.data import Dataset\n",
    "from typing import Tuple, List\n",
    "\n",
    "class NameDataset(Dataset):\n",
    "    def __init__(self, pairs:Tuple[List[str], str], name_dict:WordDict, category_dict:WordDict) -> None:\n",
    "        super().__init__()\n",
    "        self.pairs = pairs\n",
    "        self.name_dict = name_dict\n",
    "        self.category_dict = category_dict\n",
    "\n",
    "    def __getitem__(self, index):\n",
    "        name, category = self.pairs[index]\n",
    "        x = torch.LongTensor([self.name_dict.index(char) for char in name])\n",
    "        y = torch.LongTensor([self.category_dict.index(category)])\n",
    "        return (x,y)\n",
    "\n",
    "    def __len__(self):\n",
    "        return len(self.pairs)\n",
    "valid_dataset = NameDataset(valid_pairs, name_dict, category_dict)\n",
    "test_dataset = NameDataset(test_pairs, name_dict, category_dict)\n",
    "train_dataset = NameDataset(train_pairs, name_dict, category_dict)\n",
    "\n",
    "valid_dataset[5]"
   ]
  },
  {
   "cell_type": "code",
   "execution_count": 10,
   "id": "aeac50fd",
   "metadata": {
    "_cell_guid": "84a43f7d-b0ea-46ba-9859-e32b1e339b1f",
    "_uuid": "117acca8-f1cf-4034-920c-d7d5cda533ec",
    "collapsed": false,
    "execution": {
     "iopub.execute_input": "2022-07-04T11:00:01.493223Z",
     "iopub.status.busy": "2022-07-04T11:00:01.492747Z",
     "iopub.status.idle": "2022-07-04T11:00:01.501830Z",
     "shell.execute_reply": "2022-07-04T11:00:01.500528Z"
    },
    "jupyter": {
     "outputs_hidden": false
    },
    "papermill": {
     "duration": 0.021373,
     "end_time": "2022-07-04T11:00:01.504528",
     "exception": false,
     "start_time": "2022-07-04T11:00:01.483155",
     "status": "completed"
    },
    "pycharm": {
     "name": "#%%\n"
    },
    "tags": []
   },
   "outputs": [],
   "source": [
    "#由于不同的姓名长度不统一，下面定义一个函数填充长度不足的词组\n",
    "def collate_fn(pair_list):\n",
    "    input_list, label_list = zip(*pair_list)\n",
    "\n",
    "    max_len = max([len(input_tensor) for input_tensor in input_list])\n",
    "\n",
    "    collated_input = []\n",
    "    for input_tensor in input_list:\n",
    "        padding_len = max_len - len(input_tensor)\n",
    "        padding_tensor = torch.zeros((padding_len,), dtype=torch.long)\n",
    "        padding_tensor[:] = name_dict.index(\"<pad>\")\n",
    "        collated_input.append(torch.cat([input_tensor, padding_tensor], dim=0))\n",
    "\n",
    "    collated_input = torch.stack(collated_input, dim=0)\n",
    "    collated_label = torch.cat(label_list, dim=0)\n",
    "    return collated_input, collated_label"
   ]
  },
  {
   "cell_type": "code",
   "execution_count": 11,
   "id": "20da470b",
   "metadata": {
    "_cell_guid": "4a028e34-33bf-4d09-887f-805e433096d9",
    "_uuid": "c5e00bf3-eca4-4161-9a47-abc4c5cc4a6e",
    "collapsed": false,
    "execution": {
     "iopub.execute_input": "2022-07-04T11:00:01.522730Z",
     "iopub.status.busy": "2022-07-04T11:00:01.522407Z",
     "iopub.status.idle": "2022-07-04T11:00:01.529398Z",
     "shell.execute_reply": "2022-07-04T11:00:01.527995Z"
    },
    "jupyter": {
     "outputs_hidden": false
    },
    "papermill": {
     "duration": 0.019205,
     "end_time": "2022-07-04T11:00:01.532184",
     "exception": false,
     "start_time": "2022-07-04T11:00:01.512979",
     "status": "completed"
    },
    "pycharm": {
     "name": "#%%\n"
    },
    "tags": []
   },
   "outputs": [],
   "source": [
    "from torch.utils.data import DataLoader\n",
    "valid_dataloader = DataLoader(valid_dataset, batch_size=64, shuffle=False, collate_fn=collate_fn)"
   ]
  },
  {
   "cell_type": "code",
   "execution_count": 12,
   "id": "40d539cc",
   "metadata": {
    "_cell_guid": "73b01de3-15de-4de0-989f-aa025b78ae99",
    "_uuid": "5a512436-9b13-4d39-8ec9-bc5b3dba992f",
    "collapsed": false,
    "execution": {
     "iopub.execute_input": "2022-07-04T11:00:01.550952Z",
     "iopub.status.busy": "2022-07-04T11:00:01.550631Z",
     "iopub.status.idle": "2022-07-04T11:00:01.569868Z",
     "shell.execute_reply": "2022-07-04T11:00:01.568440Z"
    },
    "jupyter": {
     "outputs_hidden": false
    },
    "papermill": {
     "duration": 0.032246,
     "end_time": "2022-07-04T11:00:01.573545",
     "exception": false,
     "start_time": "2022-07-04T11:00:01.541299",
     "status": "completed"
    },
    "pycharm": {
     "name": "#%%\n"
    },
    "tags": []
   },
   "outputs": [
    {
     "name": "stdout",
     "output_type": "stream",
     "text": [
      "tensor([[10,  5, 36, 12,  5, 42,  9, 32,  9, 33,  0,  0],\n",
      "        [43, 13, 32, 12, 14, 13,  6, 19,  6,  9, 33,  0],\n",
      "        [20, 33,  5,  8, 32,  9, 33, 19, 21, 12,  0,  0],\n",
      "        [ 7, 13, 31,  9, 33, 19,  8, 32,  9,  0,  0,  0]])\n",
      "tensor([5, 5, 5, 5])\n"
     ]
    }
   ],
   "source": [
    "for batch in valid_dataloader:\n",
    "    print(batch[0][:4])\n",
    "    print(batch[1][:4])\n",
    "    break\n"
   ]
  },
  {
   "cell_type": "code",
   "execution_count": 13,
   "id": "a6723130",
   "metadata": {
    "execution": {
     "iopub.execute_input": "2022-07-04T11:00:01.593000Z",
     "iopub.status.busy": "2022-07-04T11:00:01.592683Z",
     "iopub.status.idle": "2022-07-04T11:00:01.671570Z",
     "shell.execute_reply": "2022-07-04T11:00:01.670073Z"
    },
    "papermill": {
     "duration": 0.091444,
     "end_time": "2022-07-04T11:00:01.674123",
     "exception": false,
     "start_time": "2022-07-04T11:00:01.582679",
     "status": "completed"
    },
    "tags": []
   },
   "outputs": [],
   "source": [
    "device = torch.device('cuda' if torch.cuda.is_available() else 'cpu')\n"
   ]
  },
  {
   "cell_type": "code",
   "execution_count": 14,
   "id": "9d19560e",
   "metadata": {
    "_cell_guid": "f67314ab-0056-41fd-bd40-d5efbb14f776",
    "_uuid": "baa86fb4-6ace-4e7b-bdc0-a46162af82e5",
    "collapsed": false,
    "execution": {
     "iopub.execute_input": "2022-07-04T11:00:01.693372Z",
     "iopub.status.busy": "2022-07-04T11:00:01.692172Z",
     "iopub.status.idle": "2022-07-04T11:00:01.706666Z",
     "shell.execute_reply": "2022-07-04T11:00:01.705340Z"
    },
    "jupyter": {
     "outputs_hidden": false
    },
    "papermill": {
     "duration": 0.026682,
     "end_time": "2022-07-04T11:00:01.709514",
     "exception": false,
     "start_time": "2022-07-04T11:00:01.682832",
     "status": "completed"
    },
    "pycharm": {
     "name": "#%%\n"
    },
    "tags": []
   },
   "outputs": [],
   "source": [
    "from torch import Tensor\n",
    "class NameCNN(nn.Module):\n",
    "    def __init__(self, embedding_size, embedding_dim, out_features, dropout) -> None:\n",
    "        super().__init__()\n",
    "\n",
    "        self.embedding = nn.Embedding(embedding_size, embedding_dim)\n",
    "        self.conv1 = nn.Conv1d(embedding_dim, 2*embedding_dim, 3, padding=1)\n",
    "        self.conv2 = nn.Conv1d(2*embedding_dim, 4*embedding_dim, 3, padding=1)\n",
    "        self.conv3 = nn.Conv1d(4*embedding_dim, 8*embedding_dim, 3, padding=1)\n",
    "        self.pool1 = nn.MaxPool1d(2)\n",
    "        self.pool2 = nn.MaxPool1d(2)\n",
    "        self.linear = nn.Linear(8*embedding_dim, out_features)\n",
    "        self.dropout = nn.Dropout(p=dropout)\n",
    "\n",
    "    def forward(self, x:Tensor):\n",
    "        x = self.embedding(x) # B x T -> B x T x C\n",
    "        x = x.transpose(1,2) # B x T x C -> B x C x T\n",
    "        x = self.conv1(x) # B x C x T -> B x 2C x T\n",
    "        x = nn.functional.relu(x) # relu本身不带参数，使用nn.functional.relu不需要初始化一个relu层组件\n",
    "        x = self.pool1(x) # B x 2C x T -> B x 2C x T/2\n",
    "        x = self.dropout(x)\n",
    "        x = self.conv2(x) # B x 2C x T/2 -> B x 4C x T/2\n",
    "        x = nn.functional.relu(x)\n",
    "        x = self.pool2(x) # B x 4C x T/2 -> B x 4C x T/4\n",
    "        x = self.dropout(x)\n",
    "        x = self.conv3(x) # B x 4C x T/4 -> B x 8C x T/4\n",
    "        x = nn.functional.relu(x)\n",
    "        x = x.max(dim=2)[0] # final max pool  B x 8C x T/4 -> B x 8C\n",
    "        x = self.dropout(x)\n",
    "        x = self.linear(x) # B x 8C -> B x class_num\n",
    "        return x # 这里没有用softmax转化为概率，我们在loss function中完成这一步骤\n",
    "    "
   ]
  },
  {
   "cell_type": "code",
   "execution_count": 15,
   "id": "d023d628",
   "metadata": {
    "_cell_guid": "6834cf62-2303-4fa3-a41a-5d0b7f5da2e3",
    "_uuid": "a198abb1-7f3c-4785-925f-ad4db8df28be",
    "collapsed": false,
    "execution": {
     "iopub.execute_input": "2022-07-04T11:00:01.728870Z",
     "iopub.status.busy": "2022-07-04T11:00:01.727709Z",
     "iopub.status.idle": "2022-07-04T11:00:05.062202Z",
     "shell.execute_reply": "2022-07-04T11:00:05.060926Z"
    },
    "jupyter": {
     "outputs_hidden": false
    },
    "papermill": {
     "duration": 3.347599,
     "end_time": "2022-07-04T11:00:05.065567",
     "exception": false,
     "start_time": "2022-07-04T11:00:01.717968",
     "status": "completed"
    },
    "pycharm": {
     "name": "#%%\n"
    },
    "tags": []
   },
   "outputs": [],
   "source": [
    "# dataloader\n",
    "valid_dataloader = DataLoader(valid_dataset, batch_size=128, shuffle=False, collate_fn=collate_fn)\n",
    "test_dataloader = DataLoader(test_dataset, batch_size=128, shuffle=False, collate_fn=collate_fn)\n",
    "train_dataloader = DataLoader(train_dataset, batch_size=128, shuffle=True, collate_fn=collate_fn) # shuffle=True打乱采样顺序（随机抽取Batch）\n",
    "model = NameCNN(embedding_size=name_dict.dict_size, embedding_dim=64, out_features=category_dict.dict_size, dropout=0.2).to(device)\n",
    "optimizer = torch.optim.SGD(model.parameters(), lr=5e-4, momentum=0.9)\n",
    "loss_func = nn.CrossEntropyLoss(reduction = \"sum\").to(device) # 先把每个Batch的loss加起来不平均"
   ]
  },
  {
   "cell_type": "code",
   "execution_count": 16,
   "id": "c5679895",
   "metadata": {
    "execution": {
     "iopub.execute_input": "2022-07-04T11:00:05.085575Z",
     "iopub.status.busy": "2022-07-04T11:00:05.084213Z",
     "iopub.status.idle": "2022-07-04T11:00:05.095882Z",
     "shell.execute_reply": "2022-07-04T11:00:05.094522Z"
    },
    "papermill": {
     "duration": 0.0241,
     "end_time": "2022-07-04T11:00:05.098716",
     "exception": false,
     "start_time": "2022-07-04T11:00:05.074616",
     "status": "completed"
    },
    "tags": []
   },
   "outputs": [
    {
     "name": "stdout",
     "output_type": "stream",
     "text": [
      "The model has 529,810 trainable parameters\n"
     ]
    },
    {
     "data": {
      "text/plain": [
       "529810"
      ]
     },
     "execution_count": 16,
     "metadata": {},
     "output_type": "execute_result"
    }
   ],
   "source": [
    "def count_parameters(model):\n",
    "    return sum(p.numel() for p in model.parameters() if p.requires_grad)\n",
    "\n",
    "print(f'The model has {count_parameters(model):,} trainable parameters')\n",
    "count_parameters(model)"
   ]
  },
  {
   "cell_type": "code",
   "execution_count": null,
   "id": "5168174b",
   "metadata": {
    "papermill": {
     "duration": 0.007929,
     "end_time": "2022-07-04T11:00:05.115822",
     "exception": false,
     "start_time": "2022-07-04T11:00:05.107893",
     "status": "completed"
    },
    "tags": []
   },
   "outputs": [],
   "source": []
  },
  {
   "cell_type": "code",
   "execution_count": 17,
   "id": "3460745c",
   "metadata": {
    "_cell_guid": "3e72ccf8-f210-41f2-b84b-79a6d6ae059f",
    "_uuid": "6944c281-6fc8-4345-b038-b421ef365df7",
    "collapsed": false,
    "execution": {
     "iopub.execute_input": "2022-07-04T11:00:05.134495Z",
     "iopub.status.busy": "2022-07-04T11:00:05.134121Z",
     "iopub.status.idle": "2022-07-04T11:00:05.145580Z",
     "shell.execute_reply": "2022-07-04T11:00:05.144093Z"
    },
    "jupyter": {
     "outputs_hidden": false
    },
    "papermill": {
     "duration": 0.024104,
     "end_time": "2022-07-04T11:00:05.148501",
     "exception": false,
     "start_time": "2022-07-04T11:00:05.124397",
     "status": "completed"
    },
    "pycharm": {
     "name": "#%%\n"
    },
    "tags": []
   },
   "outputs": [],
   "source": [
    "def train(model:nn.Module, optimizer:torch.optim.Optimizer, loss_func, dataloader):\n",
    "   \n",
    "    sum_loss = 0\n",
    "    train_num = 0\n",
    "    model.train() # 将model设置为训练状态\n",
    "    for input_data, label in dataloader:\n",
    "        optimizer.zero_grad() # 初始化梯度\n",
    "        pred = model(input_data.to(device))\n",
    "        loss:Tensor = loss_func(pred, label.to(device))\n",
    "        sum_loss += loss.detach()\n",
    "        \n",
    "        train_num += len(input_data)\n",
    "        # 对loss求导数\n",
    "        loss.backward()\n",
    "        optimizer.step() # 更新参数\n",
    "    return (sum_loss/train_num).item()\n",
    "def evaluate(model:nn.Module, dataloader):\n",
    "    acc_num = 0\n",
    "    all_num = 0\n",
    "\n",
    "    model.eval() # 将model设置为评估状态\n",
    "    for input_data, label in dataloader:\n",
    "        input_data=input_data.to(device)\n",
    "        label=label.to(device)\n",
    "        pred = model(input_data)\n",
    "        acc_num += (pred.max(dim=1)[1] == label).sum().item()\n",
    "        all_num += len(input_data)\n",
    "    \n",
    "    return acc_num/all_num"
   ]
  },
  {
   "cell_type": "code",
   "execution_count": 18,
   "id": "38abbfa1",
   "metadata": {
    "_cell_guid": "31c71660-03f1-4d7b-a4eb-5626a4241091",
    "_uuid": "5f9e4047-791a-474b-bbf9-2bdda16703f1",
    "collapsed": false,
    "execution": {
     "iopub.execute_input": "2022-07-04T11:00:05.166761Z",
     "iopub.status.busy": "2022-07-04T11:00:05.166437Z",
     "iopub.status.idle": "2022-07-04T11:00:38.505266Z",
     "shell.execute_reply": "2022-07-04T11:00:38.503676Z"
    },
    "jupyter": {
     "outputs_hidden": false
    },
    "papermill": {
     "duration": 33.352297,
     "end_time": "2022-07-04T11:00:38.509242",
     "exception": false,
     "start_time": "2022-07-04T11:00:05.156945",
     "status": "completed"
    },
    "pycharm": {
     "name": "#%%\n"
    },
    "tags": []
   },
   "outputs": [
    {
     "name": "stdout",
     "output_type": "stream",
     "text": [
      "Epoch: 01 \n",
      "\tTrain Loss: 1.404 | Train Acc: 71.50%\n",
      "Epoch: 02 \n",
      "\tTrain Loss: 0.948 | Train Acc: 77.65%\n",
      "Epoch: 03 \n",
      "\tTrain Loss: 0.777 | Train Acc: 79.25%\n",
      "Epoch: 04 \n",
      "\tTrain Loss: 0.679 | Train Acc: 81.60%\n",
      "Epoch: 05 \n",
      "\tTrain Loss: 0.607 | Train Acc: 82.20%\n",
      "Epoch: 06 \n",
      "\tTrain Loss: 0.568 | Train Acc: 81.40%\n",
      "Epoch: 07 \n",
      "\tTrain Loss: 0.536 | Train Acc: 82.65%\n",
      "Epoch: 08 \n",
      "\tTrain Loss: 0.496 | Train Acc: 81.45%\n",
      "Epoch: 09 \n",
      "\tTrain Loss: 0.466 | Train Acc: 81.25%\n",
      "Epoch: 10 \n",
      "\tTrain Loss: 0.449 | Train Acc: 82.00%\n",
      "Epoch: 11 \n",
      "\tTrain Loss: 0.416 | Train Acc: 83.40%\n",
      "Epoch: 12 \n",
      "\tTrain Loss: 0.398 | Train Acc: 82.65%\n",
      "Epoch: 13 \n",
      "\tTrain Loss: 0.379 | Train Acc: 83.35%\n",
      "Epoch: 14 \n",
      "\tTrain Loss: 0.361 | Train Acc: 83.80%\n",
      "Epoch: 15 \n",
      "\tTrain Loss: 0.351 | Train Acc: 83.05%\n",
      "Epoch: 16 \n",
      "\tTrain Loss: 0.330 | Train Acc: 84.10%\n",
      "Epoch: 17 \n",
      "\tTrain Loss: 0.330 | Train Acc: 83.10%\n",
      "Epoch: 18 \n",
      "\tTrain Loss: 0.316 | Train Acc: 83.20%\n",
      "Epoch: 19 \n",
      "\tTrain Loss: 0.313 | Train Acc: 83.70%\n",
      "Epoch: 20 \n",
      "\tTrain Loss: 0.295 | Train Acc: 83.60%\n"
     ]
    }
   ],
   "source": [
    "from tqdm import tqdm\n",
    "epoch_n = 20\n",
    "loss_list=[]\n",
    "\n",
    "\n",
    "for i in range(epoch_n):\n",
    "    loss=train(model, optimizer, loss_func, train_dataloader)\n",
    "\n",
    "    accuracy=evaluate(model, valid_dataloader)\n",
    "\n",
    "\n",
    "    print(f'Epoch: {i+1:02} ')\n",
    "    print(f'\\tTrain Loss: {loss:.3f} | Train Acc: {accuracy*100:.2f}%')\n"
   ]
  },
  {
   "cell_type": "code",
   "execution_count": null,
   "id": "00eb8f1c",
   "metadata": {
    "papermill": {
     "duration": 0.009773,
     "end_time": "2022-07-04T11:00:38.530126",
     "exception": false,
     "start_time": "2022-07-04T11:00:38.520353",
     "status": "completed"
    },
    "tags": []
   },
   "outputs": [],
   "source": []
  }
 ],
 "metadata": {
  "kernelspec": {
   "display_name": "Python 3",
   "language": "python",
   "name": "python3"
  },
  "language_info": {
   "codemirror_mode": {
    "name": "ipython",
    "version": 3
   },
   "file_extension": ".py",
   "mimetype": "text/x-python",
   "name": "python",
   "nbconvert_exporter": "python",
   "pygments_lexer": "ipython3",
   "version": "3.7.12"
  },
  "papermill": {
   "default_parameters": {},
   "duration": 51.507692,
   "end_time": "2022-07-04T11:00:39.967144",
   "environment_variables": {},
   "exception": null,
   "input_path": "__notebook__.ipynb",
   "output_path": "__notebook__.ipynb",
   "parameters": {},
   "start_time": "2022-07-04T10:59:48.459452",
   "version": "2.3.4"
  }
 },
 "nbformat": 4,
 "nbformat_minor": 5
}
